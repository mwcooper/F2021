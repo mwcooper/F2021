{
 "cells": [
  {
   "cell_type": "markdown",
   "metadata": {},
   "source": [
    "If you haven't seen one before, this is a Jupyter notebook. Jupyter is a system that lets us embed code snippets with text for educational purposes. The code in this file is broken into cells which can be executed independently. To run a cell, click on it and hit SHIFT + ENTER. To inspect the value of a variable, just write its name as the last line in the cell.\n",
    "\n",
    "# Part I: Linearization\n",
    "\n",
    "The first step of designing the LQR controller for our quadrotor is to linearize the system about the hover state. The equations for the 3D quadrotor, however, are complicated, and computing the necessary derivatives is too tedious to want to do by hand. Therefore, we will use a computer algebra system (CAS) to save us a lot of time in computing derivatives. Specifically, we will be using the [SymPy](https://docs.sympy.org/latest/index.html) package to help us along the way. If you have experience with Mathematica or MATLAB's Symbolic Toolkit, SymPy offers many of the same features but in a Python interface, and even allows us to convert the symbolic functions that we will derive into efficient numerical ones.\n",
    "\n",
    "To get started, we will demonstrate how to use SymPy to symbolically linearize the planar quadrotor model, then leave it to you to linearize the 3D model. We also suggest looking through the [brief tutorial](https://docs.sympy.org/latest/tutorial/index.html) given in the SymPy documentation, which will cover most of what you will need for this assignment. Again, the dynamics of the planar quadrotor are:\n",
    "\n",
    "$$\\begin{align}\\ddot{x} &= -\\frac{u_1}{m}\\sin\\theta\\\\ \\ddot{y} &= \\frac{u_1}{m}\\cos\\theta - g\\\\ \\ddot{\\theta} &= \\frac{u_2}{I}\\end{align}$$\n",
    "\n",
    "We begin by importing the functions we need from SymPy."
   ]
  },
  {
   "cell_type": "code",
   "execution_count": 1,
   "metadata": {},
   "outputs": [],
   "source": [
    "import sympy as sp\n",
    "import numpy as np\n",
    "from sympy.physics.vector import dynamicsymbols as dynamicsymbols"
   ]
  },
  {
   "cell_type": "markdown",
   "metadata": {},
   "source": [
    "Next, we define the symbolic variables we need to describe the equations of motion. The function ``dynamicsymbols`` creates symbols that vary in time, i.e. ``dynamicsymbols('x')`` will create a symbol $x(t)$ as opposed to $x$."
   ]
  },
  {
   "cell_type": "code",
   "execution_count": 2,
   "metadata": {},
   "outputs": [],
   "source": [
    "m, g, I, r, t = sp.symbols('m g I r t')\n",
    "u1, u2  = sp.symbols('u1 u2')\n",
    "x, y, theta = dynamicsymbols('x y theta')"
   ]
  },
  {
   "cell_type": "markdown",
   "metadata": {},
   "source": [
    "We also define some variables as shorthand for the time derivatives of our state variables."
   ]
  },
  {
   "cell_type": "code",
   "execution_count": 3,
   "metadata": {},
   "outputs": [],
   "source": [
    "x_dot = sp.diff(x, t)\n",
    "y_dot = sp.diff(y, t)\n",
    "theta_dot = sp.diff(theta, t)"
   ]
  },
  {
   "cell_type": "markdown",
   "metadata": {},
   "source": [
    "Now, we write out the equations of motion. Note that `sp.Matrix` is used to create both matrices and vectors in a manner similar to `np.array`."
   ]
  },
  {
   "cell_type": "code",
   "execution_count": 4,
   "metadata": {},
   "outputs": [],
   "source": [
    "state = sp.Matrix([x, y, theta, x_dot, y_dot, theta_dot])\n",
    "input = sp.Matrix([u1, u2])\n",
    "\n",
    "dynamics = sp.Matrix([x_dot, y_dot, theta_dot,\n",
    "                      -u1 / m * sp.sin(theta),\n",
    "                      u1 / m * sp.cos(theta) - g,\n",
    "                      u2 / I])"
   ]
  },
  {
   "cell_type": "markdown",
   "metadata": {},
   "source": [
    "Finally, we differentiate and plug in numerical values via the `subs` method. In this case, the hover state is chosen to be the $0$ vector and the hover input is $u_1 = m g$. We'll leave the parameters of the system as symbolic values for now so we can see the structure of the result."
   ]
  },
  {
   "cell_type": "code",
   "execution_count": 5,
   "metadata": {},
   "outputs": [],
   "source": [
    "A = dynamics.jacobian(state)\n",
    "B = dynamics.jacobian(input)"
   ]
  },
  {
   "cell_type": "code",
   "execution_count": 6,
   "metadata": {},
   "outputs": [
    {
     "data": {
      "text/latex": [
       "$\\displaystyle \\left[\\begin{matrix}0 & 0 & 0 & 1 & 0 & 0\\\\0 & 0 & 0 & 0 & 1 & 0\\\\0 & 0 & 0 & 0 & 0 & 1\\\\0 & 0 & - g & 0 & 0 & 0\\\\0 & 0 & 0 & 0 & 0 & 0\\\\0 & 0 & 0 & 0 & 0 & 0\\end{matrix}\\right]$"
      ],
      "text/plain": [
       "Matrix([\n",
       "[0, 0,  0, 1, 0, 0],\n",
       "[0, 0,  0, 0, 1, 0],\n",
       "[0, 0,  0, 0, 0, 1],\n",
       "[0, 0, -g, 0, 0, 0],\n",
       "[0, 0,  0, 0, 0, 0],\n",
       "[0, 0,  0, 0, 0, 0]])"
      ]
     },
     "execution_count": 6,
     "metadata": {},
     "output_type": "execute_result"
    }
   ],
   "source": [
    "A.subs([(u1, m * g), (theta, 0)])"
   ]
  },
  {
   "cell_type": "code",
   "execution_count": 7,
   "metadata": {},
   "outputs": [
    {
     "data": {
      "text/latex": [
       "$\\displaystyle \\left[\\begin{matrix}0 & 0\\\\0 & 0\\\\0 & 0\\\\0 & 0\\\\\\frac{1}{m} & 0\\\\0 & \\frac{1}{I}\\end{matrix}\\right]$"
      ],
      "text/plain": [
       "Matrix([\n",
       "[  0,   0],\n",
       "[  0,   0],\n",
       "[  0,   0],\n",
       "[  0,   0],\n",
       "[1/m,   0],\n",
       "[  0, 1/I]])"
      ]
     },
     "execution_count": 7,
     "metadata": {},
     "output_type": "execute_result"
    }
   ],
   "source": [
    "B.subs([(theta, 0)])"
   ]
  },
  {
   "cell_type": "markdown",
   "metadata": {},
   "source": [
    "The last thing we need to discuss is turning the A and B matrices in the previous cells into `np.ndarray` types. The reason we want to do this is that after we replace the remaining system parameters with numerical values, SymPy will represent these values in a way that is very precise, but incredibly inefficient for the numerical work we need to do. Instead, we want to work with NumPy's numerical arrays, i.e. `np.ndarray`. These cannot handle symbolic values like SymPy's matrices and will not operate at same level of precision, but they are much more efficient for computational purposes."
   ]
  },
  {
   "cell_type": "code",
   "execution_count": 8,
   "metadata": {},
   "outputs": [],
   "source": [
    "A_arr = np.array(A.subs([(u1, m * g), (theta, 0), (m, 0.03), (g, 9.81)])).astype(float)\n",
    "\n",
    "B_arr = np.array(B.subs([(theta, 0), (m, 0.03), (I, 1.419e-5)])).astype(float)"
   ]
  },
  {
   "cell_type": "markdown",
   "metadata": {},
   "source": [
    "In each of these two lines, we are doing the following. First, we substitute in all the hover state and parameter numerical values as before. Next, we call `np.array` to convert from `sp.Matrix` to `np.ndarray`. However, we still have to tell numpy which data type to use to represent the numerical values in this matrix. To do so, we call the method `np.ndarray.astype()` with the type we want, `float`. You can see these matrices have a different numerical representation now:"
   ]
  },
  {
   "cell_type": "code",
   "execution_count": 9,
   "metadata": {},
   "outputs": [
    {
     "name": "stdout",
     "output_type": "stream",
     "text": [
      "[[ 0.    0.    0.    1.    0.    0.  ]\n",
      " [ 0.    0.    0.    0.    1.    0.  ]\n",
      " [ 0.    0.    0.    0.    0.    1.  ]\n",
      " [ 0.    0.   -9.81  0.    0.    0.  ]\n",
      " [ 0.    0.    0.    0.    0.    0.  ]\n",
      " [ 0.    0.    0.    0.    0.    0.  ]]\n",
      "\n",
      "[[0.00000000e+00 0.00000000e+00]\n",
      " [0.00000000e+00 0.00000000e+00]\n",
      " [0.00000000e+00 0.00000000e+00]\n",
      " [0.00000000e+00 0.00000000e+00]\n",
      " [3.33333333e+01 0.00000000e+00]\n",
      " [0.00000000e+00 7.04721635e+04]]\n"
     ]
    }
   ],
   "source": [
    "print(A_arr)\n",
    "print()\n",
    "print(B_arr)"
   ]
  },
  {
   "cell_type": "markdown",
   "metadata": {},
   "source": [
    "## Problem 1 (40 Pts)\n",
    "Now it's your turn! In the following cells (you can add more as needed), please write the code to linearize the 3D quadrotor model that was discussed in class. You are free to use the full functionality of SymPy --- the [cross product](https://docs.sympy.org/latest/modules/matrices/matrices.html?highlight=cross#sympy.matrices.matrices.MatrixBase.cross) and [matrix inverse](https://docs.sympy.org/latest/modules/matrices/matrices.html?highlight=cross#sympy.matrices.matrices.MatrixBase.inv) methods will be particularly useful. The function should print $\\mathbf{A}$ and $\\mathbf{B}$ matrices computed like above as `np.ndarray` variables. Please place your answers in the variables `A_arr` and `B_arr`. As a reminder, the dynamics are given by\n",
    "\n",
    "$$\\begin{align}\\ddot{\\mathbf{r}} &= \\begin{bmatrix}0\\\\0\\\\-g\\end{bmatrix} + \\mathbf{R} \\begin{bmatrix}0\\\\0\\\\\\frac{F_{tot}}{m}\\end{bmatrix}\\\\ \\dot{\\omega}_{BW} &= \\mathbf{I}^{-1} \\left(-\\omega_{BW} \\times \\mathbf{I} \\omega_{BW} + \\begin{bmatrix}M_1\\\\ M_2\\\\ M_3\\end{bmatrix}\\right)\\end{align}$$\n",
    "\n",
    "where $\\mathbf{r}$ is the position in the world frame of the center of mass of the quadrotor, i.e.\n",
    "\n",
    "$$\\mathbf{r} = \\begin{bmatrix}x\\\\ y\\\\ z\\end{bmatrix}$$\n",
    "\n",
    "the rotation matrix $\\mathbf{R}$ maps from the body frame to the world frame following the Space 1-2-3 convention, that is\n",
    "\n",
    "$$\\mathbf{R} = \\begin{bmatrix}\\cos(\\theta)\\cos(\\psi) & \\sin(\\phi)\\sin(\\theta)\\cos(\\psi) - \\sin(\\psi)\\cos(\\phi) & \\cos(\\phi)\\sin(\\theta)\\cos(\\psi) + \\sin(\\psi)\\sin(\\phi)\\\\\n",
    "\\cos(\\theta)\\sin(\\psi) & \\sin(\\phi)\\sin(\\theta)\\cos(\\psi) + \\cos(\\psi)\\cos(\\phi) & \\cos(\\phi)\\sin(\\phi)\\sin(\\psi) - \\cos(\\theta)\\sin(\\phi)\\\\\n",
    "-\\sin(\\theta) & \\sin(\\phi)\\cos(\\theta) & \\cos(\\phi)\\cos(\\theta)\\end{bmatrix}$$\n",
    "\n",
    "and \n",
    "\n",
    "$$\\omega_{BW} = \\begin{bmatrix}p\\\\ q\\\\ r\\end{bmatrix}$$\n",
    "\n",
    "is the angular velocity of the body frame in the world frame, which is related to the rate of change of the Euler angles by\n",
    "\n",
    "$$\\begin{bmatrix}\\dot{\\phi}\\\\ \\dot{\\theta}\\\\ \\dot{\\psi}\\end{bmatrix} = \\begin{bmatrix}1 & \\sin(\\phi)\\tan(\\theta) & \\cos(\\phi)\\tan(\\theta)\\\\\n",
    "         0 & \\cos(\\phi) & -\\sin(\\phi)\\\\\n",
    "         0 & \\frac{\\sin(\\phi)}{\\cos(\\theta)} & \\frac{\\cos(\\phi)}{\\cos(\\theta)}\n",
    "        \\end{bmatrix}\\begin{bmatrix}p\\\\ q\\\\ r\\end{bmatrix}$$\n",
    "\n",
    "In addition to the hover state and input, you should substitute the following values for the physical parameters of the system:\n",
    "\n",
    "- $m = 0.03kg$\n",
    "- $g = 9.81 \\frac{m}{s^2}$\n",
    "- $I_{xx} = 1.4194e-05$\n",
    "- $I_{yy} = 1.4089e-05$\n",
    "- $I_{zz} = 2.9741e-05$\n",
    "\n",
    "Note the full state of the system $\\mathbf{x}$ and system inputs $\\mathbf{u}$ are the variables, in order,\n",
    "\n",
    "$$\\begin{align}\\mathbf{x} = \\begin{bmatrix}x\\\\ y\\\\ z\\\\ \\phi\\\\ \\theta\\\\ \\psi\\\\ \\dot{x}\\\\ \\dot{y}\\\\ \\dot{z}\\\\ p\\\\ q\\\\ r\\end{bmatrix} & & \\mathbf{u} = \\begin{bmatrix}F_{tot}\\\\ M_1\\\\ M_2\\\\ M_3\\end{bmatrix}\\end{align}$$\n",
    "\n",
    "and the hover state for this system that we are linearizing about is:\n",
    "\n",
    "$$\\begin{align}\\mathbf{x} = \\mathbf{0} & & \\mathbf{u} = \\begin{bmatrix}mg\\\\ 0\\\\ 0\\\\ 0\\end{bmatrix}\\end{align}$$"
   ]
  },
  {
   "cell_type": "code",
   "execution_count": 10,
   "metadata": {},
   "outputs": [],
   "source": [
    "# Create variables for the dynamcis equations\n",
    "m, g, I_xx, I_yy, I_zz, r, t = sp.symbols('m g I_xx I_yy I_zz r t')\n",
    "# Create variables for the control inputs\n",
    "u1, u2, u3, u4  = sp.symbols('u1 u2 u3 u4')\n",
    "# create dynamic symbols for the state vector\n",
    "x, y, z, phi, theta, psi, p, q, r = dynamicsymbols('x y z phi theta psi p q r')"
   ]
  },
  {
   "cell_type": "code",
   "execution_count": 11,
   "metadata": {},
   "outputs": [],
   "source": [
    "# Define x_dot, y_dot, z_dot as the derivative of x, y, z, w.r.t time\n",
    "x_dot = sp.diff(x, t)\n",
    "y_dot = sp.diff(y, t)\n",
    "z_dot = sp.diff(z, t)"
   ]
  },
  {
   "cell_type": "code",
   "execution_count": 12,
   "metadata": {},
   "outputs": [],
   "source": [
    "# Calculate phi dot, theta dot and psi dot from\n",
    "# the angular velocity vector and conversion matrix\n",
    "wbw = sp.Matrix([p, q, r])\n",
    "conversion = sp.Matrix([[1, sp.sin(phi) * sp.tan(theta), sp.cos(phi) * sp.tan(theta)],\n",
    "                        [0, sp.cos(phi), -sp.sin(phi)],\n",
    "                        [0, sp.sin(phi) / sp.cos(theta), sp.cos(phi) / sp.cos(theta)]])\n",
    "euler_dot = conversion * wbw"
   ]
  },
  {
   "cell_type": "code",
   "execution_count": 13,
   "metadata": {},
   "outputs": [],
   "source": [
    "# Rotation matrix\n",
    "R = sp.Matrix([[sp.cos(theta) * sp.cos(psi), sp.sin(phi) * sp.sin(theta) * sp.cos(psi) - sp.sin(psi) * sp.cos(phi), sp.cos(phi) * sp.sin(theta) * sp.cos(psi) + sp.sin(psi) * sp.sin(phi)],\n",
    "               [sp.cos(theta) * sp.sin(psi), sp.sin(phi) * sp.sin(theta) * sp.cos(psi) + sp.cos(psi) * sp.cos(phi), sp.cos(phi) * sp.sin(phi) * sp.sin(psi) - sp.cos(theta) * sp.sin(phi)],\n",
    "               [-sp.sin(theta), sp.sin(psi) * sp.cos(theta), sp.cos(psi) * sp.cos(theta)]])\n",
    "# Acceleration vector in the e_x, e_y, e_z directions\n",
    "acc_e = sp.Matrix([0, 0, -g])\n",
    "# Acceleration vector in the b_x, b_y, b_z directions\n",
    "acc_b = sp.Matrix([0, 0, u1/m])\n",
    "# Calculate r_2dot\n",
    "r_2dot = acc_e + R @ acc_b"
   ]
  },
  {
   "cell_type": "code",
   "execution_count": 14,
   "metadata": {},
   "outputs": [],
   "source": [
    "# Inertial matrix\n",
    "I = sp.Matrix([[I_xx, 0, 0], \n",
    "               [0, I_yy, 0],\n",
    "               [0, 0, I_zz]])\n",
    "# Vector of moments about the body frame axes\n",
    "moments = sp.Matrix([u2, u3, u4])\n",
    "# Calculate wbw_dot using the inertial matrix, the moments\n",
    "# and the angular velocity vector\n",
    "wbw_dot = I.inv() @ ((-wbw).cross(I @ wbw) + moments) "
   ]
  },
  {
   "cell_type": "code",
   "execution_count": 15,
   "metadata": {},
   "outputs": [],
   "source": [
    "state = sp.Matrix([x, y, z, theta, x_dot, y_dot, z_dot, p, q, r])\n",
    "input = sp.Matrix([u1, u2, u3, u4])\n",
    "\n",
    "dynamics = sp.Matrix([x_dot, y_dot, z_dot, euler_dot, r_2dot, wbw_dot])"
   ]
  },
  {
   "cell_type": "code",
   "execution_count": 16,
   "metadata": {},
   "outputs": [],
   "source": [
    "A = dynamics.jacobian(state)\n",
    "B = dynamics.jacobian(input)"
   ]
  },
  {
   "cell_type": "code",
   "execution_count": 17,
   "metadata": {},
   "outputs": [
    {
     "data": {
      "text/latex": [
       "$\\displaystyle \\left[\\begin{matrix}0 & 0 & 0 & 0 & 1 & 0 & 0 & 0 & 0 & 0\\\\0 & 0 & 0 & 0 & 0 & 1 & 0 & 0 & 0 & 0\\\\0 & 0 & 0 & 0 & 0 & 0 & 1 & 0 & 0 & 0\\\\0 & 0 & 0 & 0 & 0 & 0 & 0 & 1 & 0 & 0\\\\0 & 0 & 0 & 0 & 0 & 0 & 0 & 0 & 1 & 0\\\\0 & 0 & 0 & 0 & 0 & 0 & 0 & 0 & 0 & 1\\\\0 & 0 & 0 & g & 0 & 0 & 0 & 0 & 0 & 0\\\\0 & 0 & 0 & 0 & 0 & 0 & 0 & 0 & 0 & 0\\\\0 & 0 & 0 & 0 & 0 & 0 & 0 & 0 & 0 & 0\\\\0 & 0 & 0 & 0 & 0 & 0 & 0 & 0 & 0 & 0\\\\0 & 0 & 0 & 0 & 0 & 0 & 0 & 0 & 0 & 0\\\\0 & 0 & 0 & 0 & 0 & 0 & 0 & 0 & 0 & 0\\end{matrix}\\right]$"
      ],
      "text/plain": [
       "Matrix([\n",
       "[0, 0, 0, 0, 1, 0, 0, 0, 0, 0],\n",
       "[0, 0, 0, 0, 0, 1, 0, 0, 0, 0],\n",
       "[0, 0, 0, 0, 0, 0, 1, 0, 0, 0],\n",
       "[0, 0, 0, 0, 0, 0, 0, 1, 0, 0],\n",
       "[0, 0, 0, 0, 0, 0, 0, 0, 1, 0],\n",
       "[0, 0, 0, 0, 0, 0, 0, 0, 0, 1],\n",
       "[0, 0, 0, g, 0, 0, 0, 0, 0, 0],\n",
       "[0, 0, 0, 0, 0, 0, 0, 0, 0, 0],\n",
       "[0, 0, 0, 0, 0, 0, 0, 0, 0, 0],\n",
       "[0, 0, 0, 0, 0, 0, 0, 0, 0, 0],\n",
       "[0, 0, 0, 0, 0, 0, 0, 0, 0, 0],\n",
       "[0, 0, 0, 0, 0, 0, 0, 0, 0, 0]])"
      ]
     },
     "execution_count": 17,
     "metadata": {},
     "output_type": "execute_result"
    }
   ],
   "source": [
    "# State vector is 0 vector\n",
    "# Control input is mg for u1 and zero for all others.\n",
    "A.subs([(u1, m * g), (u2, 0), (u3, 0), (u3, 0),\n",
    "        (x, 0), (y, 0), (z, 0), (phi, 0), (theta, 0), (psi, 0),\n",
    "        (x_dot, 0), (y_dot, 0), (z_dot, 0), (p, 0), (q, 0), (r, 0)])"
   ]
  },
  {
   "cell_type": "code",
   "execution_count": 18,
   "metadata": {},
   "outputs": [
    {
     "data": {
      "text/latex": [
       "$\\displaystyle \\left[\\begin{matrix}0 & 0 & 0 & 0\\\\0 & 0 & 0 & 0\\\\0 & 0 & 0 & 0\\\\0 & 0 & 0 & 0\\\\0 & 0 & 0 & 0\\\\0 & 0 & 0 & 0\\\\0 & 0 & 0 & 0\\\\0 & 0 & 0 & 0\\\\\\frac{1}{m} & 0 & 0 & 0\\\\0 & \\frac{1}{I_{xx}} & 0 & 0\\\\0 & 0 & \\frac{1}{I_{yy}} & 0\\\\0 & 0 & 0 & \\frac{1}{I_{zz}}\\end{matrix}\\right]$"
      ],
      "text/plain": [
       "Matrix([\n",
       "[  0,      0,      0,      0],\n",
       "[  0,      0,      0,      0],\n",
       "[  0,      0,      0,      0],\n",
       "[  0,      0,      0,      0],\n",
       "[  0,      0,      0,      0],\n",
       "[  0,      0,      0,      0],\n",
       "[  0,      0,      0,      0],\n",
       "[  0,      0,      0,      0],\n",
       "[1/m,      0,      0,      0],\n",
       "[  0, 1/I_xx,      0,      0],\n",
       "[  0,      0, 1/I_yy,      0],\n",
       "[  0,      0,      0, 1/I_zz]])"
      ]
     },
     "execution_count": 18,
     "metadata": {},
     "output_type": "execute_result"
    }
   ],
   "source": [
    "# State vector is 0 vector\n",
    "# Control input is mg for u1 and zero for all others.\n",
    "B.subs([(u1, m * g), (u2, 0), (u3, 0), (u3, 0),\n",
    "        (x, 0), (y, 0), (z, 0), (phi, 0), (theta, 0), (psi, 0),\n",
    "        (x_dot, 0), (y_dot, 0), (z_dot, 0), (p, 0), (q, 0), (r, 0)])"
   ]
  },
  {
   "cell_type": "code",
   "execution_count": 19,
   "metadata": {},
   "outputs": [],
   "source": [
    "# State vector is 0 vector\n",
    "# Control input is mg for u1 and zero for all others.\n",
    "# 𝑚=0.03𝑘𝑔 \n",
    "# 𝑔=9.81𝑚𝑠2 \n",
    "# 𝐼𝑥𝑥=1.4194𝑒−05 \n",
    "# 𝐼𝑦𝑦=1.4089𝑒−05 \n",
    "# 𝐼𝑧𝑧=2.9741𝑒−05\n",
    "\n",
    "A_arr = np.array(A.subs([(u1, m * g), (u2, 0), (u3, 0), (u3, 0),\n",
    "                         (x, 0), (y, 0), (z, 0), (phi, 0), (theta, 0), (psi, 0),\n",
    "                         (x_dot, 0), (y_dot, 0), (z_dot, 0), (p, 0), (q, 0), (r, 0),\n",
    "                         (m, 0.03), (g, 9.81),\n",
    "                         (I_xx, 1.4194e-5), (I_yy, 1.4089e-5), (I_zz, 2.9741e-5)])).astype(float)\n",
    "\n",
    "B_arr = np.array(B.subs([(u1, m * g), (u2, 0), (u3, 0), (u3, 0),\n",
    "                         (x, 0), (y, 0), (z, 0), (phi, 0), (theta, 0), (psi, 0),\n",
    "                         (x_dot, 0), (y_dot, 0), (z_dot, 0), (p, 0), (q, 0), (r, 0),\n",
    "                         (m, 0.03), (g, 9.81),\n",
    "                         (I_xx, 1.4194e-5), (I_yy, 1.4089e-5), (I_zz, 2.9741e-5)])).astype(float)"
   ]
  },
  {
   "cell_type": "code",
   "execution_count": 20,
   "metadata": {},
   "outputs": [
    {
     "name": "stdout",
     "output_type": "stream",
     "text": [
      "[[0.   0.   0.   0.   1.   0.   0.   0.   0.   0.  ]\n",
      " [0.   0.   0.   0.   0.   1.   0.   0.   0.   0.  ]\n",
      " [0.   0.   0.   0.   0.   0.   1.   0.   0.   0.  ]\n",
      " [0.   0.   0.   0.   0.   0.   0.   1.   0.   0.  ]\n",
      " [0.   0.   0.   0.   0.   0.   0.   0.   1.   0.  ]\n",
      " [0.   0.   0.   0.   0.   0.   0.   0.   0.   1.  ]\n",
      " [0.   0.   0.   9.81 0.   0.   0.   0.   0.   0.  ]\n",
      " [0.   0.   0.   0.   0.   0.   0.   0.   0.   0.  ]\n",
      " [0.   0.   0.   0.   0.   0.   0.   0.   0.   0.  ]\n",
      " [0.   0.   0.   0.   0.   0.   0.   0.   0.   0.  ]\n",
      " [0.   0.   0.   0.   0.   0.   0.   0.   0.   0.  ]\n",
      " [0.   0.   0.   0.   0.   0.   0.   0.   0.   0.  ]]\n",
      "\n",
      "[[0.00000000e+00 0.00000000e+00 0.00000000e+00 0.00000000e+00]\n",
      " [0.00000000e+00 0.00000000e+00 0.00000000e+00 0.00000000e+00]\n",
      " [0.00000000e+00 0.00000000e+00 0.00000000e+00 0.00000000e+00]\n",
      " [0.00000000e+00 0.00000000e+00 0.00000000e+00 0.00000000e+00]\n",
      " [0.00000000e+00 0.00000000e+00 0.00000000e+00 0.00000000e+00]\n",
      " [0.00000000e+00 0.00000000e+00 0.00000000e+00 0.00000000e+00]\n",
      " [0.00000000e+00 0.00000000e+00 0.00000000e+00 0.00000000e+00]\n",
      " [0.00000000e+00 0.00000000e+00 0.00000000e+00 0.00000000e+00]\n",
      " [3.33333333e+01 0.00000000e+00 0.00000000e+00 0.00000000e+00]\n",
      " [0.00000000e+00 7.04523038e+04 0.00000000e+00 0.00000000e+00]\n",
      " [0.00000000e+00 0.00000000e+00 7.09773582e+04 0.00000000e+00]\n",
      " [0.00000000e+00 0.00000000e+00 0.00000000e+00 3.36236172e+04]]\n"
     ]
    }
   ],
   "source": [
    "print(A_arr)\n",
    "print()\n",
    "print(B_arr)"
   ]
  },
  {
   "cell_type": "markdown",
   "metadata": {},
   "source": [
    "Hopefully this example demonstrated the power of CAS tools for simplifying tedious calculations!"
   ]
  },
  {
   "cell_type": "markdown",
   "metadata": {},
   "source": [
    "# Part II: Calculating Thrust Coefficient\n",
    "\n",
    "In this part of the assignment, we will calculate the _thrust coefficient_ and _drag coefficient_ of the [Crazyflie](https://www.bitcraze.io/products/crazyflie-2-1/), which is the drone we are using in this course. As was mentioned in class, having a good characterization of these parameters is important for any controller derived from the system model to work well. We will estimate these parameters from data collected from a real Crazyflie in our lab as a warm up exercise for doing numerical computing in Python. The simple statistical tools we need will be explained as we go.\n",
    "\n",
    "The force, $F_i$, and moment, $M_i$, produced by each motor is given by\n",
    "\n",
    "$$\\begin{align}F_i = k_f \\omega_i^2 & & M_i = k_m \\omega_i^2\\end{align}$$\n",
    "\n",
    "Here, $\\omega_i$ is the rotational speed of the motor, $k_f$ is the thrust coefficient, and $k_m$ is the drag coefficient. The experimental procedure used to find $k_f$ is straightforward. Since $\\omega_i^2$ is linearly related to $F_i$ and $\\omega_i^2$ can be set to arbitrary values, we can simply measure the thrust produced at different values of $\\omega_i$ and perform a _linear regression_, which is another name for calculating the line of best fit.\n",
    "\n",
    "## Linear Regression Overview\n",
    "\n",
    "Linear regression is a simple but useful statistical tool. This section will provide a quick overview of the technique in case you have not already seen it in a statistics or linear algebra class.\n",
    "\n",
    "Consider the following scenario. We have a data set $\\{(\\mathbf{x}_i, y_i)\\}_{i = 1}^N$, where $\\mathbf{x}_i \\in \\mathbb{R}^n$ represents the input to some function and $y_i \\in \\mathbb{R}$ represents the measured output. We assume that the output is linearly related to the input and that there is some amount of additive random noise $e_i$ representing measurement error, i.e.\n",
    "\n",
    "$$y_i = \\mathbf{a}^{\\top}\\mathbf{x}_i + e_i$$\n",
    "\n",
    "Our goal is to characterize the mapping between $\\mathbf{x}$ and $\\mathbf{y}$ by finding $\\mathbf{a}$. To do so, we first recognize that we can write the $N$ constraints given by the previous equation as\n",
    "\n",
    "$$\\mathbf{y} = \\mathbf{X}\\mathbf{a} + \\mathbf{e}$$\n",
    "\n",
    "where\n",
    "\n",
    "$$\\begin{align}\\mathbf{y} = \\begin{bmatrix}y_1\\\\ \\vdots \\\\ y_N\\end{bmatrix} & & \\mathbf{X} = \\begin{bmatrix}\\mathbf{x}_1^{\\top}\\\\ \\vdots \\\\ \\mathbf{x}_N^{\\top}\\end{bmatrix} & & \\mathbf{e} = \\begin{bmatrix}e_1\\\\ \\vdots \\\\ e_N\\end{bmatrix}\\end{align}$$.\n",
    "\n",
    "If $\\mathbf{e}$ is known, we could simply attempt to invert $\\mathbf{X}$ to compute $\\mathbf{a}$. However, since the measurement noise is rarely known, we cannot persue this avenue. Moreover, $\\mathbf{X}$ is rarely square and / or of full rank. We often choose $N >> n$ in order to compensate for the fact that some of our measurments will have significant errors. So, instead, we will try to find a value for $\\mathbf{a}$ that tries to get \"as close as possible\" to satisfying\n",
    "\n",
    "$$\\mathbf{y} = \\mathbf{X}\\mathbf{a}$$.\n",
    "\n",
    "While there are a number of ways we can define \"as close as possible\" formally, the one that we are going to pick is the square of the $2$-norm of the difference between the left and right hand sides of the previous equation. This choice is made for a number of practical and analytic reasons that are beyond the scope of this class. This choice corresponds to the optimization problem\n",
    "\n",
    "$$\\underset{\\mathbf{a}}{\\mathrm{minimize}}\\ \\frac{1}{2}\\|\\mathbf{y} - \\mathbf{X}\\mathbf{a}\\|_2^2$$\n",
    "\n",
    "This kind of optimization problem is known as a _least-squares problem_ and is a kind of _unconstrained quadratic program_. The details of what that means are unimportant, but methods for solving these problems are very well-studied, and methods for doing so are already implemented as part of SciPy.\n",
    "\n",
    "## Implementation\n",
    "\n",
    "First, we are going to import the libraries and data that we need. Feel free to use any function in these libraries to help in the assignment."
   ]
  },
  {
   "cell_type": "code",
   "execution_count": 21,
   "metadata": {},
   "outputs": [],
   "source": [
    "import matplotlib.pyplot as plt\n",
    "from scipy.optimize import lsq_linear\n",
    "\n",
    "npzfile = np.load('quad_data/thrust_data.npz')\n",
    "thrusts = npzfile['thrusts']\n",
    "grams = npzfile['grams']"
   ]
  },
  {
   "cell_type": "markdown",
   "metadata": {},
   "source": [
    "## Problem 2 (30 Pts)\n",
    "You will use the `lsq_linear` function to solve the least-squares problem described above. It's documentation is available [here](https://docs.scipy.org/doc/scipy-0.18.1/reference/generated/scipy.optimize.lsq_linear.html).\n",
    "\n",
    "First, we need to discuss an implementation detail. Internally, the Crazyflie doesn't work in terms of commanded angular velocities for the rotors but instead in terms of a percentage of the maximum angular velocity of which the rotors are capable. Moreover, this quantity is represented as a 16-bit integer, so values range from $0$ to $2^{16}$, with $0$ corresponding to $0$% angular velocity and $2^{16}$ corresponding to $100$% angular velocity. Therefore, for the purposes of writing a controller, we are really interested in measuring the value of $k_f$ for the equation\n",
    "\n",
    "$$F_{tot} = k_f \\sum_{i = 1}^4\\tilde{\\omega}_i^2$$\n",
    "\n",
    "where $\\tilde{\\omega}^2_i$ is the percentage of max. angular velocity represented as a 16-bit integer in the manner just described for the $i$th rotor and $F_{tot}$ is the total thrust in _newtons_.\n",
    "\n",
    "To collect data, we measured the thrust of the quadrotor on a scale while sweeping $\\tilde{\\omega}_i^2$ through a series of values three different times. The data from this experimented was just imported in the following format:\n",
    "- `thrusts`: An `np.ndarray` containing $M$ different percentages of max. thrust to which the rotors were set for data collection _in grams_. You will need to rescale this to the 16-bit integer representation by multiplying by $2^{16}$. _All four rotors were set to this value at the same time_.\n",
    "- `grams`: An `np.ndarray` of dimension $M$-by-$3$. The value in entry `grams[i, j]` corresponds to the value the scale measured, in grams, when all four motors were set to the percentage of total thrust given in `thrusts[i]` on the `j`th experimental trial. You will need to convert these to Newtons.\n",
    "\n",
    "Your assignment, is to, in the next cell, compute $k_f$ by finding the best-fit line for this data. It's been found in the literature that, for this model of quadrotor, that\n",
    "\n",
    "$$\\frac{k_f}{k_m} \\approx 40.7333$$\n",
    "\n",
    "Therefore, you should also compute $k_m$ once you find $k_f$. Please put these values in the variables `k_f` and `k_m` respectively."
   ]
  },
  {
   "cell_type": "code",
   "execution_count": 22,
   "metadata": {},
   "outputs": [],
   "source": [
    "# Scale thrusts and grams\n",
    "thrustsShaped = thrusts * 4 * (2 ** 16)\n",
    "gramsShaped = grams * 0.00981\n",
    "\n",
    "# Rearrange the arrays so they can be input as the proper shape to lsq_linear\n",
    "thrustsShaped = np.repeat(thrustsShaped, 3)\n",
    "gramsShaped = np.reshape(gramsShaped, gramsShaped.size)\n",
    "thrustsShaped = np.expand_dims(thrustsShaped, axis=1)"
   ]
  },
  {
   "cell_type": "code",
   "execution_count": 23,
   "metadata": {},
   "outputs": [],
   "source": [
    "k_f = lsq_linear(thrustsShaped, gramsShaped).x"
   ]
  },
  {
   "cell_type": "code",
   "execution_count": 24,
   "metadata": {},
   "outputs": [],
   "source": [
    "k_m = k_f / 40.7333"
   ]
  },
  {
   "cell_type": "code",
   "execution_count": 25,
   "metadata": {},
   "outputs": [
    {
     "name": "stdout",
     "output_type": "stream",
     "text": [
      "[1.82212053e-06]\n",
      "[4.47329464e-08]\n"
     ]
    }
   ],
   "source": [
    "print(k_f)\n",
    "print(k_m)"
   ]
  },
  {
   "cell_type": "markdown",
   "metadata": {},
   "source": [
    "Finally, run the following cell to check your work. It plots the data along with the best-fit line you found. If these don't line up (pun unintended), you will need to reevaluate your approach."
   ]
  },
  {
   "cell_type": "code",
   "execution_count": 26,
   "metadata": {},
   "outputs": [
    {
     "name": "stdout",
     "output_type": "stream",
     "text": [
      "k_f = [1.82212053e-06]\n",
      "k_m = [4.47329464e-08]\n"
     ]
    },
    {
     "data": {
      "image/png": "[encoded data removed]",
      "text/plain": [
       "<Figure size 432x288 with 1 Axes>"
      ]
     },
     "metadata": {
      "needs_background": "light"
     },
     "output_type": "display_data"
    }
   ],
   "source": [
    "%matplotlib inline\n",
    "\n",
    "for i in range(grams.shape[1]):\n",
    "    if i == 0:\n",
    "        plt.scatter(thrusts, 9.81 * grams[:, i] / 4000, c='k', s=5, label='Experimental Data')\n",
    "    else:\n",
    "        plt.scatter(thrusts, 9.81 * grams[:, i] / 4000, c='k', s=5)\n",
    "\n",
    "plt.plot(thrusts, k_f * (2 ** 16) * thrusts, c='r', linewidth=2, label='Fitted Line')\n",
    "plt.xlabel('PWM [%]')\n",
    "plt.ylabel('Thrust [N]')\n",
    "plt.legend()\n",
    "\n",
    "print(f'k_f = {k_f}\\nk_m = {k_m}')"
   ]
  },
  {
   "cell_type": "markdown",
   "metadata": {},
   "source": [
    "# Submission Instructions\n",
    "\n",
    "Please submit your completed Lab1.ipynb file to Gradescope \"HW1: Coding\". \n",
    "\n",
    "Also, please don't forget to turn in your solution to the written portion of the assignment to Gradescope \"HW1: Theory\"."
   ]
  },
  {
   "cell_type": "code",
   "execution_count": null,
   "metadata": {},
   "outputs": [],
   "source": []
  }
 ],
 "metadata": {
  "kernelspec": {
   "display_name": "Python 3 (ipykernel)",
   "language": "python",
   "name": "python3"
  },
  "language_info": {
   "codemirror_mode": {
    "name": "ipython",
    "version": 3
   },
   "file_extension": ".py",
   "mimetype": "text/x-python",
   "name": "python",
   "nbconvert_exporter": "python",
   "pygments_lexer": "ipython3",
   "version": "3.7.11"
  }
 },
 "nbformat": 4,
 "nbformat_minor": 4
}
